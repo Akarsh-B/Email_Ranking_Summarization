{
 "cells": [
  {
   "cell_type": "code",
   "execution_count": 11,
   "metadata": {},
   "outputs": [],
   "source": [
    "#Necessary imports\n",
    "import numpy as np\n",
    "import pandas as pd\n",
    "import matplotlib.pyplot as plt\n",
    "import seaborn as sns\n",
    "import email\n",
    "from datetime import datetime\n",
    "import os.path\n",
    "from os import path\n",
    "%matplotlib inline\n",
    "sns.set_style('darkgrid')"
   ]
  },
  {
   "cell_type": "code",
   "execution_count": 2,
   "metadata": {},
   "outputs": [],
   "source": [
    "#Reading the email-data into a dataframe\n",
    "emails = pd.read_csv('emails.csv')"
   ]
  },
  {
   "cell_type": "code",
   "execution_count": 3,
   "metadata": {},
   "outputs": [
    {
     "data": {
      "text/html": [
       "<div>\n",
       "<style scoped>\n",
       "    .dataframe tbody tr th:only-of-type {\n",
       "        vertical-align: middle;\n",
       "    }\n",
       "\n",
       "    .dataframe tbody tr th {\n",
       "        vertical-align: top;\n",
       "    }\n",
       "\n",
       "    .dataframe thead th {\n",
       "        text-align: right;\n",
       "    }\n",
       "</style>\n",
       "<table border=\"1\" class=\"dataframe\">\n",
       "  <thead>\n",
       "    <tr style=\"text-align: right;\">\n",
       "      <th></th>\n",
       "      <th>file</th>\n",
       "      <th>message</th>\n",
       "    </tr>\n",
       "  </thead>\n",
       "  <tbody>\n",
       "    <tr>\n",
       "      <th>0</th>\n",
       "      <td>allen-p/_sent_mail/1.</td>\n",
       "      <td>Message-ID: &lt;18782981.1075855378110.JavaMail.e...</td>\n",
       "    </tr>\n",
       "    <tr>\n",
       "      <th>1</th>\n",
       "      <td>allen-p/_sent_mail/10.</td>\n",
       "      <td>Message-ID: &lt;15464986.1075855378456.JavaMail.e...</td>\n",
       "    </tr>\n",
       "    <tr>\n",
       "      <th>2</th>\n",
       "      <td>allen-p/_sent_mail/100.</td>\n",
       "      <td>Message-ID: &lt;24216240.1075855687451.JavaMail.e...</td>\n",
       "    </tr>\n",
       "    <tr>\n",
       "      <th>3</th>\n",
       "      <td>allen-p/_sent_mail/1000.</td>\n",
       "      <td>Message-ID: &lt;13505866.1075863688222.JavaMail.e...</td>\n",
       "    </tr>\n",
       "    <tr>\n",
       "      <th>4</th>\n",
       "      <td>allen-p/_sent_mail/1001.</td>\n",
       "      <td>Message-ID: &lt;30922949.1075863688243.JavaMail.e...</td>\n",
       "    </tr>\n",
       "  </tbody>\n",
       "</table>\n",
       "</div>"
      ],
      "text/plain": [
       "                       file                                            message\n",
       "0     allen-p/_sent_mail/1.  Message-ID: <18782981.1075855378110.JavaMail.e...\n",
       "1    allen-p/_sent_mail/10.  Message-ID: <15464986.1075855378456.JavaMail.e...\n",
       "2   allen-p/_sent_mail/100.  Message-ID: <24216240.1075855687451.JavaMail.e...\n",
       "3  allen-p/_sent_mail/1000.  Message-ID: <13505866.1075863688222.JavaMail.e...\n",
       "4  allen-p/_sent_mail/1001.  Message-ID: <30922949.1075863688243.JavaMail.e..."
      ]
     },
     "execution_count": 3,
     "metadata": {},
     "output_type": "execute_result"
    }
   ],
   "source": [
    "#Checking the contents of the data\n",
    "emails.head()"
   ]
  },
  {
   "cell_type": "code",
   "execution_count": 4,
   "metadata": {},
   "outputs": [],
   "source": [
    "#Extracting data from email message to its respective columns\n",
    "messages = list(map(email.message_from_string,emails.message))\n",
    "fields = messages[0].keys()\n",
    "for field in fields:\n",
    "    emails[field] = [message[field] for message in messages]\n",
    "emails['body'] = [message.get_payload() for message in messages]"
   ]
  },
  {
   "cell_type": "code",
   "execution_count": 5,
   "metadata": {},
   "outputs": [],
   "source": [
    "#Column names and data pre-processing\n",
    "columns_to_drop = ['message','Mime-Version','Content-Type','Content-Transfer-Encoding','X-cc','X-bcc','X-Folder','X-Origin','X-FileName','From','X-To']\n",
    "emails.drop(columns=columns_to_drop,axis=1,inplace=True)\n",
    "emails = emails.rename(columns={'X-From':'from'})\n",
    "emails.columns = map(str.lower,emails.columns)\n",
    "to_name = emails['to'].str.split('@',expand = True)\n",
    "emails['to_name'] = to_name[0].str.replace('.',',')"
   ]
  },
  {
   "cell_type": "code",
   "execution_count": 6,
   "metadata": {},
   "outputs": [
    {
     "data": {
      "text/html": [
       "<div>\n",
       "<style scoped>\n",
       "    .dataframe tbody tr th:only-of-type {\n",
       "        vertical-align: middle;\n",
       "    }\n",
       "\n",
       "    .dataframe tbody tr th {\n",
       "        vertical-align: top;\n",
       "    }\n",
       "\n",
       "    .dataframe thead th {\n",
       "        text-align: right;\n",
       "    }\n",
       "</style>\n",
       "<table border=\"1\" class=\"dataframe\">\n",
       "  <thead>\n",
       "    <tr style=\"text-align: right;\">\n",
       "      <th></th>\n",
       "      <th>file</th>\n",
       "      <th>message-id</th>\n",
       "      <th>date</th>\n",
       "      <th>to</th>\n",
       "      <th>subject</th>\n",
       "      <th>from</th>\n",
       "      <th>body</th>\n",
       "      <th>to_name</th>\n",
       "    </tr>\n",
       "  </thead>\n",
       "  <tbody>\n",
       "    <tr>\n",
       "      <th>0</th>\n",
       "      <td>allen-p/_sent_mail/1.</td>\n",
       "      <td>&lt;18782981.1075855378110.JavaMail.evans@thyme&gt;</td>\n",
       "      <td>Mon, 14 May 2001 16:39:00 -0700 (PDT)</td>\n",
       "      <td>tim.belden@enron.com</td>\n",
       "      <td></td>\n",
       "      <td>Phillip K Allen</td>\n",
       "      <td>Here is our forecast\\n\\n</td>\n",
       "      <td>tim,belden</td>\n",
       "    </tr>\n",
       "    <tr>\n",
       "      <th>1</th>\n",
       "      <td>allen-p/_sent_mail/10.</td>\n",
       "      <td>&lt;15464986.1075855378456.JavaMail.evans@thyme&gt;</td>\n",
       "      <td>Fri, 4 May 2001 13:51:00 -0700 (PDT)</td>\n",
       "      <td>john.lavorato@enron.com</td>\n",
       "      <td>Re:</td>\n",
       "      <td>Phillip K Allen</td>\n",
       "      <td>Traveling to have a business meeting takes the...</td>\n",
       "      <td>john,lavorato</td>\n",
       "    </tr>\n",
       "    <tr>\n",
       "      <th>2</th>\n",
       "      <td>allen-p/_sent_mail/100.</td>\n",
       "      <td>&lt;24216240.1075855687451.JavaMail.evans@thyme&gt;</td>\n",
       "      <td>Wed, 18 Oct 2000 03:00:00 -0700 (PDT)</td>\n",
       "      <td>leah.arsdall@enron.com</td>\n",
       "      <td>Re: test</td>\n",
       "      <td>Phillip K Allen</td>\n",
       "      <td>test successful.  way to go!!!</td>\n",
       "      <td>leah,arsdall</td>\n",
       "    </tr>\n",
       "    <tr>\n",
       "      <th>3</th>\n",
       "      <td>allen-p/_sent_mail/1000.</td>\n",
       "      <td>&lt;13505866.1075863688222.JavaMail.evans@thyme&gt;</td>\n",
       "      <td>Mon, 23 Oct 2000 06:13:00 -0700 (PDT)</td>\n",
       "      <td>randall.gay@enron.com</td>\n",
       "      <td></td>\n",
       "      <td>Phillip K Allen</td>\n",
       "      <td>Randy,\\n\\n Can you send me a schedule of the s...</td>\n",
       "      <td>randall,gay</td>\n",
       "    </tr>\n",
       "    <tr>\n",
       "      <th>4</th>\n",
       "      <td>allen-p/_sent_mail/1001.</td>\n",
       "      <td>&lt;30922949.1075863688243.JavaMail.evans@thyme&gt;</td>\n",
       "      <td>Thu, 31 Aug 2000 05:07:00 -0700 (PDT)</td>\n",
       "      <td>greg.piper@enron.com</td>\n",
       "      <td>Re: Hello</td>\n",
       "      <td>Phillip K Allen</td>\n",
       "      <td>Let's shoot for Tuesday at 11:45.</td>\n",
       "      <td>greg,piper</td>\n",
       "    </tr>\n",
       "  </tbody>\n",
       "</table>\n",
       "</div>"
      ],
      "text/plain": [
       "                       file                                     message-id  \\\n",
       "0     allen-p/_sent_mail/1.  <18782981.1075855378110.JavaMail.evans@thyme>   \n",
       "1    allen-p/_sent_mail/10.  <15464986.1075855378456.JavaMail.evans@thyme>   \n",
       "2   allen-p/_sent_mail/100.  <24216240.1075855687451.JavaMail.evans@thyme>   \n",
       "3  allen-p/_sent_mail/1000.  <13505866.1075863688222.JavaMail.evans@thyme>   \n",
       "4  allen-p/_sent_mail/1001.  <30922949.1075863688243.JavaMail.evans@thyme>   \n",
       "\n",
       "                                    date                       to    subject  \\\n",
       "0  Mon, 14 May 2001 16:39:00 -0700 (PDT)     tim.belden@enron.com              \n",
       "1   Fri, 4 May 2001 13:51:00 -0700 (PDT)  john.lavorato@enron.com        Re:   \n",
       "2  Wed, 18 Oct 2000 03:00:00 -0700 (PDT)   leah.arsdall@enron.com   Re: test   \n",
       "3  Mon, 23 Oct 2000 06:13:00 -0700 (PDT)    randall.gay@enron.com              \n",
       "4  Thu, 31 Aug 2000 05:07:00 -0700 (PDT)     greg.piper@enron.com  Re: Hello   \n",
       "\n",
       "              from                                               body  \\\n",
       "0  Phillip K Allen                          Here is our forecast\\n\\n    \n",
       "1  Phillip K Allen  Traveling to have a business meeting takes the...   \n",
       "2  Phillip K Allen                     test successful.  way to go!!!   \n",
       "3  Phillip K Allen  Randy,\\n\\n Can you send me a schedule of the s...   \n",
       "4  Phillip K Allen                Let's shoot for Tuesday at 11:45.     \n",
       "\n",
       "         to_name  \n",
       "0     tim,belden  \n",
       "1  john,lavorato  \n",
       "2   leah,arsdall  \n",
       "3    randall,gay  \n",
       "4     greg,piper  "
      ]
     },
     "execution_count": 6,
     "metadata": {},
     "output_type": "execute_result"
    }
   ],
   "source": [
    "#Final dataframe of the email messages with contents in its respective columns\n",
    "emails.head()"
   ]
  },
  {
   "cell_type": "code",
   "execution_count": 7,
   "metadata": {},
   "outputs": [
    {
     "data": {
      "text/plain": [
       "(array([0, 1, 2, 3, 4, 5, 6, 7, 8, 9]), <a list of 10 Text xticklabel objects>)"
      ]
     },
     "execution_count": 7,
     "metadata": {},
     "output_type": "execute_result"
    },
    {
     "data": {
      "image/png": "[encoded data removed]",
      "text/plain": [
       "<Figure size 1440x504 with 1 Axes>"
      ]
     },
     "metadata": {
      "needs_background": "light"
     },
     "output_type": "display_data"
    }
   ],
   "source": [
    "#Plot of top 10 people in the company who have recieved emails based on the count of emails recieved\n",
    "plt.figure(figsize=(20,7))\n",
    "email_recieved_plot = sns.barplot(data=emails,x=emails.to_name.value_counts()[0:10].index,y=emails.to_name.value_counts()[0:10].values,palette='Set2')\n",
    "plt.xticks(rotation=45)"
   ]
  },
  {
   "cell_type": "markdown",
   "metadata": {},
   "source": [
    "As we can see, the employee with the highest emails recieved was pete,davis but that looks like a lot of emails compared to the other's. \n",
    "When i went ahead and checked the contents of the emails that were recieved by him, I saw that most of them were auto generated emails regarding some warning.\n",
    "So figuring out that this does'nt help much for the problem at hand, I considered the next employee who recieved the most emails. i.e Tana, Jones.\n",
    "The emails recieved by Tana were sent by actual users, we will be analyzing that in the next steps."
   ]
  },
  {
   "cell_type": "code",
   "execution_count": 8,
   "metadata": {},
   "outputs": [],
   "source": [
    "#Filter the emails based on one person who recieved the most email, this will form our corpus\n",
    "emails_filtered = emails[emails.to_name == 'tana,jones'].reset_index(drop=True)\n",
    "emails_filtered.date = pd.to_datetime(emails_filtered.date)\n",
    "emails_filtered = emails_filtered.sort_values(by='date',axis=0,ascending=False).reset_index(drop=True)\n",
    "from_name = emails_filtered['from'].str.split('<',expand = True)\n",
    "emails_filtered['from_name'] = from_name[0]"
   ]
  },
  {
   "cell_type": "code",
   "execution_count": 9,
   "metadata": {},
   "outputs": [
    {
     "name": "stdout",
     "output_type": "stream",
     "text": [
      "exchangeinfo@nymex.com                   484\n",
      "Leslie Hansen                            478\n",
      "Sara Shackleton                          256\n",
      "Mark Taylor                              224\n",
      "Marcus Nettelton                         150\n",
      "ARSystem <ARSystem@mailman.enron.com>    140\n",
      "Carol St Clair                           138\n",
      "Shari Stack                              117\n",
      "Mark Greenberg                           100\n",
      "David Minns                               96\n",
      "Name: from, dtype: int64\n"
     ]
    },
    {
     "data": {
      "text/plain": [
       "(array([0, 1, 2, 3, 4, 5, 6, 7, 8, 9]), <a list of 10 Text xticklabel objects>)"
      ]
     },
     "execution_count": 9,
     "metadata": {},
     "output_type": "execute_result"
    },
    {
     "data": {
      "image/png": "[encoded data removed]",
      "text/plain": [
       "<Figure size 1440x504 with 1 Axes>"
      ]
     },
     "metadata": {
      "needs_background": "light"
     },
     "output_type": "display_data"
    }
   ],
   "source": [
    "#Analyszing the emails that Tana recieved.\n",
    "print(emails_filtered['from'].value_counts()[0:10])\n",
    "plt.figure(figsize=(20,7))\n",
    "email_recieved_from_plot = sns.barplot(data=emails_filtered,x=emails_filtered['from'].value_counts()[0:10].index,y=emails_filtered['from'].value_counts()[0:10].values,palette='Set2')\n",
    "plt.xticks(rotation=45)"
   ]
  },
  {
   "cell_type": "code",
   "execution_count": 15,
   "metadata": {},
   "outputs": [],
   "source": [
    "if not path.exists('emails_filtered.csv'):\n",
    "    emails_filtered.to_csv('emails_filtered.csv',sep=',')\n",
    "pass"
   ]
  },
  {
   "cell_type": "markdown",
   "metadata": {},
   "source": [
    "As we can see from the above plot, Tana has recieved a lot of emails from exchangeinfo@nymex.com and Leslie Hansen. \n",
    "<br/>\n",
    "<br/>Looks like\n",
    "1. exchangeinfo@nymex.com is an external partner(By seeing the email domain) whom Tana handles.\n",
    "2. Leslie Hansen can be Tana's supervisor (Just an assumption).\n",
    "<br/>Not only the top two, we will consider the top 5 people who send emails to Tana.\n",
    "3. Sara Shackleton\n",
    "4. Mark Taylor\n",
    "5. Marcus Nettelton\n",
    "<br/>We will be considering these are top people Tana's will have conversations on a regular basis. So these people will form our query to the corpus and we will rank Tana's emails based on the priority that will be assigned to each individual from the above 5 and the email that they will be sending."
   ]
  },
  {
   "cell_type": "markdown",
   "metadata": {},
   "source": [
    "As a checkpoint, i have extracted out the data that will form the corpus of the document. Going on further, this data can be used for processing of the data"
   ]
  }
 ],
 "metadata": {
  "kernelspec": {
   "display_name": "Python 3",
   "language": "python",
   "name": "python3"
  },
  "language_info": {
   "codemirror_mode": {
    "name": "ipython",
    "version": 3
   },
   "file_extension": ".py",
   "mimetype": "text/x-python",
   "name": "python",
   "nbconvert_exporter": "python",
   "pygments_lexer": "ipython3",
   "version": "3.7.3"
  }
 },
 "nbformat": 4,
 "nbformat_minor": 2
}
